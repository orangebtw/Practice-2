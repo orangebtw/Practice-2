{
 "cells": [
  {
   "cell_type": "markdown",
   "id": "346ef83a",
   "metadata": {},
   "source": [
    "Устанавливаем необходимые библиотеки, а именно:\n",
    "- `CSV` для загрузки данных из файла в формате csv\n",
    "- `DataFrame` для обработки табличных данных, нужна чтобы обработать данные, которые мы загрузили из файла\n",
    "- `NearestNeighborModels` чтобы использовать алгоритм обучения KNN\n",
    "- `MLJ` для, непосредственно, обучения модели"
   ]
  },
  {
   "cell_type": "code",
   "execution_count": null,
   "id": "a5089195",
   "metadata": {},
   "outputs": [],
   "source": [
    "using Pkg\n",
    "\n",
    "Pkg.add(\"CSV\")\n",
    "Pkg.add(\"DataFrames\")\n",
    "Pkg.add(\"NearestNeighborModels\")\n",
    "Pkg.add(\"MLJ\")"
   ]
  },
  {
   "cell_type": "markdown",
   "id": "12121235",
   "metadata": {},
   "source": [
    "Подключаем нужные библиотеки"
   ]
  },
  {
   "cell_type": "code",
   "execution_count": null,
   "id": "3e03971e",
   "metadata": {},
   "outputs": [],
   "source": [
    "using CSV, DataFrames, MLJ, NearestNeighborModels"
   ]
  },
  {
   "cell_type": "markdown",
   "id": "864d2d66",
   "metadata": {},
   "source": [
    "Загружаем датасет из файла"
   ]
  },
  {
   "cell_type": "code",
   "execution_count": null,
   "id": "8327739e",
   "metadata": {},
   "outputs": [],
   "source": [
    "df = CSV.read(\"./dataset.csv\", DataFrame)"
   ]
  },
  {
   "cell_type": "markdown",
   "id": "3c538959",
   "metadata": {},
   "source": [
    "Выбираем все столбцы, кроме столбца с именем \"variety\" в качестве входных параметров. И затем преобразовываем их в матрицу"
   ]
  },
  {
   "cell_type": "code",
   "execution_count": null,
   "id": "42bc1dfd",
   "metadata": {},
   "outputs": [],
   "source": [
    "X = Matrix(df[:, Not(:variety)])"
   ]
  },
  {
   "cell_type": "markdown",
   "id": "ecedf329",
   "metadata": {},
   "source": [
    "Выбираем столбец variety в качестве классификаций"
   ]
  },
  {
   "cell_type": "code",
   "execution_count": null,
   "id": "e2115006",
   "metadata": {},
   "outputs": [],
   "source": [
    "Y = coerce(df.variety, Multiclass)"
   ]
  },
  {
   "cell_type": "markdown",
   "id": "3accffdb",
   "metadata": {},
   "source": [
    "Разбиваем датасет на две выборки: для обучения и для тестирования. И затем приводим данные в формат, понятный библиотеке MLJ"
   ]
  },
  {
   "cell_type": "code",
   "execution_count": null,
   "id": "34f308fe",
   "metadata": {},
   "outputs": [],
   "source": [
    "train_indices, test_indicies = partition(1:nrows(df), 0.7, shuffle=true)\n",
    "\n",
    "X_train, X_test = selectrows(X, train_indices), selectrows(X, test_indicies)\n",
    "Y_train, Y_test = Y[train_indices], Y[test_indicies]\n",
    "\n",
    "X_train, X_test = MLJ.table(X_train), MLJ.table(X_test)"
   ]
  },
  {
   "cell_type": "markdown",
   "id": "5f3b2274",
   "metadata": {},
   "source": [
    "Инициализируем алгоритм KNN, указывая `8` в качестве числа ближайших соседей"
   ]
  },
  {
   "cell_type": "code",
   "execution_count": null,
   "id": "8e35601b",
   "metadata": {},
   "outputs": [],
   "source": [
    "model = KNNClassifier(K=8)"
   ]
  },
  {
   "cell_type": "markdown",
   "id": "abfb53a2",
   "metadata": {},
   "source": [
    "Инициализируем модель и обучаем её на подготовленных данных"
   ]
  },
  {
   "cell_type": "code",
   "execution_count": null,
   "id": "d5e490f1",
   "metadata": {},
   "outputs": [],
   "source": [
    "mach = machine(model, X_train, Y_train)\n",
    "MLJ.fit!(mach, verbosity=0)"
   ]
  },
  {
   "cell_type": "markdown",
   "id": "1241f037",
   "metadata": {},
   "source": [
    "Проверяем модель на тренировочной выборке и выводим её точность."
   ]
  },
  {
   "cell_type": "code",
   "execution_count": null,
   "id": "368f2b1e",
   "metadata": {},
   "outputs": [],
   "source": [
    "predictions = mode.(MLJ.predict(mach, X_test))\n",
    "\n",
    "acc = accuracy(predictions, Y_test)\n",
    "\n",
    "println(\"Точность: \", round(acc * 100, digits=1), \"%\")"
   ]
  }
 ],
 "metadata": {
  "kernelspec": {
   "display_name": "Julia 1.11.6",
   "language": "julia",
   "name": "julia-1.11"
  },
  "language_info": {
   "file_extension": ".jl",
   "mimetype": "application/julia",
   "name": "julia",
   "version": "1.11.6"
  }
 },
 "nbformat": 4,
 "nbformat_minor": 5
}
